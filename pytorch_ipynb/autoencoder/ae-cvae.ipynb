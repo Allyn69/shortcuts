{
 "cells": [
  {
   "cell_type": "markdown",
   "metadata": {},
   "source": [
    "Deep Learning Models -- A collection of various deep learning architectures, models, and tips for TensorFlow and PyTorch in Jupyter Notebooks.\n",
    "- Author: Sebastian Raschka\n",
    "- GitHub Repository: https://github.com/rasbt/deeplearning-models"
   ]
  },
  {
   "cell_type": "code",
   "execution_count": 1,
   "metadata": {},
   "outputs": [
    {
     "name": "stdout",
     "output_type": "stream",
     "text": [
      "Sebastian Raschka \n",
      "\n",
      "CPython 3.6.8\n",
      "IPython 7.2.0\n",
      "\n",
      "torch 1.0.0\n"
     ]
    }
   ],
   "source": [
    "%load_ext watermark\n",
    "%watermark -a 'Sebastian Raschka' -v -p torch"
   ]
  },
  {
   "cell_type": "markdown",
   "metadata": {},
   "source": [
    "- Runs on CPU or GPU (if available)"
   ]
  },
  {
   "cell_type": "markdown",
   "metadata": {},
   "source": [
    "# Model Zoo -- Conditional Variational Autoencoder\n",
    "\n",
    "## (with labels in reconstruction loss)"
   ]
  },
  {
   "cell_type": "markdown",
   "metadata": {},
   "source": [
    "A simple conditional variational autoencoder that compresses 768-pixel MNIST images down to a 35-pixel latent vector representation.\n",
    "\n",
    "This implementation concatenates the inputs with the class labels when computing the reconstruction loss as it is commonly done in non-convolutional conditional variational autoencoders. This leads to sightly better results compared to the implementation that does NOT concatenate the labels with the inputs to compute the reconstruction loss. For reference, see the implementation [./autoencoder-cvae_no-out-concat.ipynb](./autoencoder-cvae_no-out-concat.ipynb)"
   ]
  },
  {
   "cell_type": "markdown",
   "metadata": {},
   "source": [
    "## Imports"
   ]
  },
  {
   "cell_type": "code",
   "execution_count": 2,
   "metadata": {},
   "outputs": [],
   "source": [
    "import time\n",
    "import numpy as np\n",
    "import torch\n",
    "import torch.nn.functional as F\n",
    "from torch.utils.data import DataLoader\n",
    "from torchvision import datasets\n",
    "from torchvision import transforms\n",
    "\n",
    "\n",
    "if torch.cuda.is_available():\n",
    "    torch.backends.cudnn.deterministic = True"
   ]
  },
  {
   "cell_type": "code",
   "execution_count": 3,
   "metadata": {},
   "outputs": [
    {
     "name": "stdout",
     "output_type": "stream",
     "text": [
      "Device: cuda:1\n",
      "Image batch dimensions: torch.Size([128, 1, 28, 28])\n",
      "Image label dimensions: torch.Size([128])\n"
     ]
    }
   ],
   "source": [
    "##########################\n",
    "### SETTINGS\n",
    "##########################\n",
    "\n",
    "# Device\n",
    "device = torch.device(\"cuda:1\" if torch.cuda.is_available() else \"cpu\")\n",
    "print('Device:', device)\n",
    "\n",
    "# Hyperparameters\n",
    "random_seed = 0\n",
    "learning_rate = 0.001\n",
    "num_epochs = 50\n",
    "batch_size = 128\n",
    "\n",
    "# Architecture\n",
    "num_classes = 10\n",
    "num_features = 784\n",
    "num_hidden_1 = 500\n",
    "num_latent = 35\n",
    "\n",
    "\n",
    "##########################\n",
    "### MNIST DATASET\n",
    "##########################\n",
    "\n",
    "# Note transforms.ToTensor() scales input images\n",
    "# to 0-1 range\n",
    "train_dataset = datasets.MNIST(root='data', \n",
    "                               train=True, \n",
    "                               transform=transforms.ToTensor(),\n",
    "                               download=True)\n",
    "\n",
    "test_dataset = datasets.MNIST(root='data', \n",
    "                              train=False, \n",
    "                              transform=transforms.ToTensor())\n",
    "\n",
    "\n",
    "train_loader = DataLoader(dataset=train_dataset, \n",
    "                          batch_size=batch_size, \n",
    "                          shuffle=True)\n",
    "\n",
    "test_loader = DataLoader(dataset=test_dataset, \n",
    "                         batch_size=batch_size, \n",
    "                         shuffle=False)\n",
    "\n",
    "# Checking the dataset\n",
    "for images, labels in train_loader:  \n",
    "    print('Image batch dimensions:', images.shape)\n",
    "    print('Image label dimensions:', labels.shape)\n",
    "    break"
   ]
  },
  {
   "cell_type": "markdown",
   "metadata": {},
   "source": [
    "## Model"
   ]
  },
  {
   "cell_type": "code",
   "execution_count": 4,
   "metadata": {},
   "outputs": [],
   "source": [
    "##########################\n",
    "### MODEL\n",
    "##########################\n",
    "\n",
    "\n",
    "def to_onehot(labels, num_classes, device):\n",
    "\n",
    "    labels_onehot = torch.zeros(labels.size()[0], num_classes).to(device)\n",
    "    labels_onehot.scatter_(1, labels.view(-1, 1), 1)\n",
    "\n",
    "    return labels_onehot\n",
    "\n",
    "\n",
    "class ConditionalVariationalAutoencoder(torch.nn.Module):\n",
    "\n",
    "    def __init__(self, num_features, num_hidden_1, num_latent, num_classes):\n",
    "        super(ConditionalVariationalAutoencoder, self).__init__()\n",
    "        \n",
    "        self.num_classes = num_classes\n",
    "        \n",
    "        ### ENCODER\n",
    "        self.hidden_1 = torch.nn.Linear(num_features+num_classes, num_hidden_1)\n",
    "        self.z_mean = torch.nn.Linear(num_hidden_1, num_latent)\n",
    "        # in the original paper (Kingma & Welling 2015, we use\n",
    "        # have a z_mean and z_var, but the problem is that\n",
    "        # the z_var can be negative, which would cause issues\n",
    "        # in the log later. Hence we assume that latent vector\n",
    "        # has a z_mean and z_log_var component, and when we need\n",
    "        # the regular variance or std_dev, we simply use \n",
    "        # an exponential function\n",
    "        self.z_log_var = torch.nn.Linear(num_hidden_1, num_latent)\n",
    "        \n",
    "        \n",
    "        ### DECODER\n",
    "        self.linear_3 = torch.nn.Linear(num_latent+num_classes, num_hidden_1)\n",
    "        self.linear_4 = torch.nn.Linear(num_hidden_1, num_features+num_classes)\n",
    "\n",
    "    def reparameterize(self, z_mu, z_log_var):\n",
    "        # Sample epsilon from standard normal distribution\n",
    "        eps = torch.randn(z_mu.size(0), z_mu.size(1)).to(device)\n",
    "        # note that log(x^2) = 2*log(x); hence divide by 2 to get std_dev\n",
    "        # i.e., std_dev = exp(log(std_dev^2)/2) = exp(log(var)/2)\n",
    "        z = z_mu + eps * torch.exp(z_log_var/2.) \n",
    "        return z\n",
    "        \n",
    "    def encoder(self, features, targets):\n",
    "        ### Add condition\n",
    "        onehot_targets = to_onehot(targets, self.num_classes, device)\n",
    "        x = torch.cat((features, onehot_targets), dim=1)\n",
    "\n",
    "        ### ENCODER\n",
    "        x = self.hidden_1(x)\n",
    "        x = F.leaky_relu(x)\n",
    "        z_mean = self.z_mean(x)\n",
    "        z_log_var = self.z_log_var(x)\n",
    "        encoded = self.reparameterize(z_mean, z_log_var)\n",
    "        return z_mean, z_log_var, encoded\n",
    "    \n",
    "    def decoder(self, encoded, targets):\n",
    "        ### Add condition\n",
    "        onehot_targets = to_onehot(targets, self.num_classes, device)\n",
    "        encoded = torch.cat((encoded, onehot_targets), dim=1)        \n",
    "        \n",
    "        ### DECODER\n",
    "        x = self.linear_3(encoded)\n",
    "        x = F.leaky_relu(x)\n",
    "        x = self.linear_4(x)\n",
    "        decoded = torch.sigmoid(x)\n",
    "        return decoded\n",
    "\n",
    "    def forward(self, features, targets):\n",
    "        \n",
    "        z_mean, z_log_var, encoded = self.encoder(features, targets)\n",
    "        decoded = self.decoder(encoded, targets)\n",
    "        \n",
    "        return z_mean, z_log_var, encoded, decoded\n",
    "\n",
    "    \n",
    "torch.manual_seed(random_seed)\n",
    "model = ConditionalVariationalAutoencoder(num_features,\n",
    "                                          num_hidden_1,\n",
    "                                          num_latent,\n",
    "                                          num_classes)\n",
    "model = model.to(device)\n",
    "    \n",
    "\n",
    "##########################\n",
    "### COST AND OPTIMIZER\n",
    "##########################\n",
    "\n",
    "optimizer = torch.optim.Adam(model.parameters(), lr=learning_rate)  "
   ]
  },
  {
   "cell_type": "markdown",
   "metadata": {},
   "source": [
    "## Training"
   ]
  },
  {
   "cell_type": "code",
   "execution_count": 5,
   "metadata": {},
   "outputs": [
    {
     "name": "stdout",
     "output_type": "stream",
     "text": [
      "Epoch: 001/050 | Batch 000/003 | Cost: 71038.5859\n",
      "Epoch: 001/050 | Batch 050/003 | Cost: 27687.3066\n",
      "Epoch: 001/050 | Batch 100/003 | Cost: 22471.4355\n",
      "Epoch: 001/050 | Batch 150/003 | Cost: 20541.7598\n",
      "Epoch: 001/050 | Batch 200/003 | Cost: 19670.0254\n",
      "Epoch: 001/050 | Batch 250/003 | Cost: 18063.1172\n",
      "Epoch: 001/050 | Batch 300/003 | Cost: 18197.8105\n",
      "Epoch: 001/050 | Batch 350/003 | Cost: 17140.0234\n",
      "Epoch: 001/050 | Batch 400/003 | Cost: 17088.2832\n",
      "Epoch: 001/050 | Batch 450/003 | Cost: 16489.5078\n",
      "Time elapsed: 0.12 min\n",
      "Epoch: 002/050 | Batch 000/003 | Cost: 16543.6680\n",
      "Epoch: 002/050 | Batch 050/003 | Cost: 15903.9375\n",
      "Epoch: 002/050 | Batch 100/003 | Cost: 15624.4824\n",
      "Epoch: 002/050 | Batch 150/003 | Cost: 15635.6016\n",
      "Epoch: 002/050 | Batch 200/003 | Cost: 15245.4121\n",
      "Epoch: 002/050 | Batch 250/003 | Cost: 15592.2266\n",
      "Epoch: 002/050 | Batch 300/003 | Cost: 14563.4980\n",
      "Epoch: 002/050 | Batch 350/003 | Cost: 15090.5811\n",
      "Epoch: 002/050 | Batch 400/003 | Cost: 14832.8682\n",
      "Epoch: 002/050 | Batch 450/003 | Cost: 15250.2480\n",
      "Time elapsed: 0.24 min\n",
      "Epoch: 003/050 | Batch 000/003 | Cost: 14894.0859\n",
      "Epoch: 003/050 | Batch 050/003 | Cost: 14885.7168\n",
      "Epoch: 003/050 | Batch 100/003 | Cost: 14998.2500\n",
      "Epoch: 003/050 | Batch 150/003 | Cost: 14456.1309\n",
      "Epoch: 003/050 | Batch 200/003 | Cost: 14737.8740\n",
      "Epoch: 003/050 | Batch 250/003 | Cost: 14265.4639\n",
      "Epoch: 003/050 | Batch 300/003 | Cost: 13826.1016\n",
      "Epoch: 003/050 | Batch 350/003 | Cost: 14193.5059\n",
      "Epoch: 003/050 | Batch 400/003 | Cost: 14308.9688\n",
      "Epoch: 003/050 | Batch 450/003 | Cost: 13530.7305\n",
      "Time elapsed: 0.37 min\n",
      "Epoch: 004/050 | Batch 000/003 | Cost: 14149.7422\n",
      "Epoch: 004/050 | Batch 050/003 | Cost: 14044.5645\n",
      "Epoch: 004/050 | Batch 100/003 | Cost: 13909.8926\n",
      "Epoch: 004/050 | Batch 150/003 | Cost: 14146.3789\n",
      "Epoch: 004/050 | Batch 200/003 | Cost: 13917.0820\n",
      "Epoch: 004/050 | Batch 250/003 | Cost: 13873.8262\n",
      "Epoch: 004/050 | Batch 300/003 | Cost: 13358.3555\n",
      "Epoch: 004/050 | Batch 350/003 | Cost: 13450.4238\n",
      "Epoch: 004/050 | Batch 400/003 | Cost: 13677.4062\n",
      "Epoch: 004/050 | Batch 450/003 | Cost: 14247.6426\n",
      "Time elapsed: 0.49 min\n",
      "Epoch: 005/050 | Batch 000/003 | Cost: 13364.3730\n",
      "Epoch: 005/050 | Batch 050/003 | Cost: 13535.6279\n",
      "Epoch: 005/050 | Batch 100/003 | Cost: 13827.6201\n",
      "Epoch: 005/050 | Batch 150/003 | Cost: 13421.4111\n",
      "Epoch: 005/050 | Batch 200/003 | Cost: 13467.9238\n",
      "Epoch: 005/050 | Batch 250/003 | Cost: 13812.4131\n",
      "Epoch: 005/050 | Batch 300/003 | Cost: 13457.0234\n",
      "Epoch: 005/050 | Batch 350/003 | Cost: 14082.8926\n",
      "Epoch: 005/050 | Batch 400/003 | Cost: 13224.9209\n",
      "Epoch: 005/050 | Batch 450/003 | Cost: 13151.8311\n",
      "Time elapsed: 0.61 min\n",
      "Epoch: 006/050 | Batch 000/003 | Cost: 13850.8398\n",
      "Epoch: 006/050 | Batch 050/003 | Cost: 13386.6289\n",
      "Epoch: 006/050 | Batch 100/003 | Cost: 13522.1650\n",
      "Epoch: 006/050 | Batch 150/003 | Cost: 12865.0898\n",
      "Epoch: 006/050 | Batch 200/003 | Cost: 13949.3652\n",
      "Epoch: 006/050 | Batch 250/003 | Cost: 12964.2607\n",
      "Epoch: 006/050 | Batch 300/003 | Cost: 13692.9707\n",
      "Epoch: 006/050 | Batch 350/003 | Cost: 13319.4219\n",
      "Epoch: 006/050 | Batch 400/003 | Cost: 13278.6582\n",
      "Epoch: 006/050 | Batch 450/003 | Cost: 13224.0107\n",
      "Time elapsed: 0.73 min\n",
      "Epoch: 007/050 | Batch 000/003 | Cost: 13686.9590\n",
      "Epoch: 007/050 | Batch 050/003 | Cost: 13188.3828\n",
      "Epoch: 007/050 | Batch 100/003 | Cost: 13173.3457\n",
      "Epoch: 007/050 | Batch 150/003 | Cost: 13309.3906\n",
      "Epoch: 007/050 | Batch 200/003 | Cost: 13174.3359\n",
      "Epoch: 007/050 | Batch 250/003 | Cost: 13169.7100\n",
      "Epoch: 007/050 | Batch 300/003 | Cost: 13255.1074\n",
      "Epoch: 007/050 | Batch 350/003 | Cost: 13153.2480\n",
      "Epoch: 007/050 | Batch 400/003 | Cost: 13683.6426\n",
      "Epoch: 007/050 | Batch 450/003 | Cost: 13518.1055\n",
      "Time elapsed: 0.85 min\n",
      "Epoch: 008/050 | Batch 000/003 | Cost: 13531.5840\n",
      "Epoch: 008/050 | Batch 050/003 | Cost: 12898.9746\n",
      "Epoch: 008/050 | Batch 100/003 | Cost: 13434.8193\n",
      "Epoch: 008/050 | Batch 150/003 | Cost: 13045.6172\n",
      "Epoch: 008/050 | Batch 200/003 | Cost: 13175.8867\n",
      "Epoch: 008/050 | Batch 250/003 | Cost: 12952.2139\n",
      "Epoch: 008/050 | Batch 300/003 | Cost: 13100.8184\n",
      "Epoch: 008/050 | Batch 350/003 | Cost: 13419.0410\n",
      "Epoch: 008/050 | Batch 400/003 | Cost: 13768.5234\n",
      "Epoch: 008/050 | Batch 450/003 | Cost: 13300.7402\n",
      "Time elapsed: 0.97 min\n",
      "Epoch: 009/050 | Batch 000/003 | Cost: 13035.2109\n",
      "Epoch: 009/050 | Batch 050/003 | Cost: 13260.9902\n",
      "Epoch: 009/050 | Batch 100/003 | Cost: 13446.3652\n",
      "Epoch: 009/050 | Batch 150/003 | Cost: 13241.1523\n",
      "Epoch: 009/050 | Batch 200/003 | Cost: 13139.6904\n",
      "Epoch: 009/050 | Batch 250/003 | Cost: 13418.0098\n",
      "Epoch: 009/050 | Batch 300/003 | Cost: 12743.2139\n",
      "Epoch: 009/050 | Batch 350/003 | Cost: 13347.6465\n",
      "Epoch: 009/050 | Batch 400/003 | Cost: 13353.1543\n",
      "Epoch: 009/050 | Batch 450/003 | Cost: 13161.7549\n",
      "Time elapsed: 1.09 min\n",
      "Epoch: 010/050 | Batch 000/003 | Cost: 13043.7656\n",
      "Epoch: 010/050 | Batch 050/003 | Cost: 13368.1816\n",
      "Epoch: 010/050 | Batch 100/003 | Cost: 12742.3281\n",
      "Epoch: 010/050 | Batch 150/003 | Cost: 13022.2832\n",
      "Epoch: 010/050 | Batch 200/003 | Cost: 13076.5967\n",
      "Epoch: 010/050 | Batch 250/003 | Cost: 12765.7480\n",
      "Epoch: 010/050 | Batch 300/003 | Cost: 12605.2461\n",
      "Epoch: 010/050 | Batch 350/003 | Cost: 12561.1895\n",
      "Epoch: 010/050 | Batch 400/003 | Cost: 13314.3623\n",
      "Epoch: 010/050 | Batch 450/003 | Cost: 13048.6670\n",
      "Time elapsed: 1.21 min\n",
      "Epoch: 011/050 | Batch 000/003 | Cost: 12769.8984\n",
      "Epoch: 011/050 | Batch 050/003 | Cost: 13002.4824\n",
      "Epoch: 011/050 | Batch 100/003 | Cost: 12989.9756\n",
      "Epoch: 011/050 | Batch 150/003 | Cost: 12345.3877\n",
      "Epoch: 011/050 | Batch 200/003 | Cost: 12599.8975\n",
      "Epoch: 011/050 | Batch 250/003 | Cost: 13375.6543\n",
      "Epoch: 011/050 | Batch 300/003 | Cost: 12829.1621\n",
      "Epoch: 011/050 | Batch 350/003 | Cost: 12245.9316\n",
      "Epoch: 011/050 | Batch 400/003 | Cost: 12745.7324\n",
      "Epoch: 011/050 | Batch 450/003 | Cost: 12833.6787\n",
      "Time elapsed: 1.33 min\n",
      "Epoch: 012/050 | Batch 000/003 | Cost: 13168.7441\n",
      "Epoch: 012/050 | Batch 050/003 | Cost: 12641.6289\n",
      "Epoch: 012/050 | Batch 100/003 | Cost: 12435.3809\n",
      "Epoch: 012/050 | Batch 150/003 | Cost: 12635.2422\n",
      "Epoch: 012/050 | Batch 200/003 | Cost: 12657.0459\n",
      "Epoch: 012/050 | Batch 250/003 | Cost: 12965.5098\n",
      "Epoch: 012/050 | Batch 300/003 | Cost: 13022.1289\n",
      "Epoch: 012/050 | Batch 350/003 | Cost: 13023.3535\n",
      "Epoch: 012/050 | Batch 400/003 | Cost: 12723.5039\n",
      "Epoch: 012/050 | Batch 450/003 | Cost: 12593.6680\n",
      "Time elapsed: 1.45 min\n",
      "Epoch: 013/050 | Batch 000/003 | Cost: 13062.8193\n",
      "Epoch: 013/050 | Batch 050/003 | Cost: 12942.4668\n",
      "Epoch: 013/050 | Batch 100/003 | Cost: 13116.7461\n",
      "Epoch: 013/050 | Batch 150/003 | Cost: 12458.0615\n",
      "Epoch: 013/050 | Batch 200/003 | Cost: 12586.8535\n",
      "Epoch: 013/050 | Batch 250/003 | Cost: 12546.0703\n",
      "Epoch: 013/050 | Batch 300/003 | Cost: 12817.3428\n",
      "Epoch: 013/050 | Batch 350/003 | Cost: 13081.0586\n",
      "Epoch: 013/050 | Batch 400/003 | Cost: 13006.0645\n",
      "Epoch: 013/050 | Batch 450/003 | Cost: 12553.9902\n",
      "Time elapsed: 1.57 min\n",
      "Epoch: 014/050 | Batch 000/003 | Cost: 12912.1406\n",
      "Epoch: 014/050 | Batch 050/003 | Cost: 12546.7812\n",
      "Epoch: 014/050 | Batch 100/003 | Cost: 12928.7334\n",
      "Epoch: 014/050 | Batch 150/003 | Cost: 12532.9268\n",
      "Epoch: 014/050 | Batch 200/003 | Cost: 12385.5430\n",
      "Epoch: 014/050 | Batch 250/003 | Cost: 12737.9053\n",
      "Epoch: 014/050 | Batch 300/003 | Cost: 12179.8184\n",
      "Epoch: 014/050 | Batch 350/003 | Cost: 12855.8301\n",
      "Epoch: 014/050 | Batch 400/003 | Cost: 12984.9512\n",
      "Epoch: 014/050 | Batch 450/003 | Cost: 12996.2832\n",
      "Time elapsed: 1.69 min\n",
      "Epoch: 015/050 | Batch 000/003 | Cost: 12615.2100\n",
      "Epoch: 015/050 | Batch 050/003 | Cost: 13215.7402\n",
      "Epoch: 015/050 | Batch 100/003 | Cost: 12532.8447\n",
      "Epoch: 015/050 | Batch 150/003 | Cost: 12863.5928\n",
      "Epoch: 015/050 | Batch 200/003 | Cost: 12683.9209\n",
      "Epoch: 015/050 | Batch 250/003 | Cost: 12564.1309\n",
      "Epoch: 015/050 | Batch 300/003 | Cost: 12535.2500\n",
      "Epoch: 015/050 | Batch 350/003 | Cost: 12853.1445\n",
      "Epoch: 015/050 | Batch 400/003 | Cost: 12600.9902\n",
      "Epoch: 015/050 | Batch 450/003 | Cost: 12867.0781\n",
      "Time elapsed: 1.81 min\n",
      "Epoch: 016/050 | Batch 000/003 | Cost: 12429.7402\n",
      "Epoch: 016/050 | Batch 050/003 | Cost: 13151.1377\n",
      "Epoch: 016/050 | Batch 100/003 | Cost: 12885.5371\n",
      "Epoch: 016/050 | Batch 150/003 | Cost: 12601.3242\n",
      "Epoch: 016/050 | Batch 200/003 | Cost: 13196.4834\n",
      "Epoch: 016/050 | Batch 250/003 | Cost: 12570.6836\n",
      "Epoch: 016/050 | Batch 300/003 | Cost: 12942.7861\n",
      "Epoch: 016/050 | Batch 350/003 | Cost: 12389.7363\n",
      "Epoch: 016/050 | Batch 400/003 | Cost: 12576.1445\n",
      "Epoch: 016/050 | Batch 450/003 | Cost: 12140.7900\n",
      "Time elapsed: 1.93 min\n",
      "Epoch: 017/050 | Batch 000/003 | Cost: 12978.2227\n",
      "Epoch: 017/050 | Batch 050/003 | Cost: 12447.1230\n",
      "Epoch: 017/050 | Batch 100/003 | Cost: 12980.0459\n",
      "Epoch: 017/050 | Batch 150/003 | Cost: 12901.1045\n",
      "Epoch: 017/050 | Batch 200/003 | Cost: 12381.2070\n",
      "Epoch: 017/050 | Batch 250/003 | Cost: 12956.8857\n",
      "Epoch: 017/050 | Batch 300/003 | Cost: 12341.9512\n",
      "Epoch: 017/050 | Batch 350/003 | Cost: 12692.6270\n",
      "Epoch: 017/050 | Batch 400/003 | Cost: 12316.9727\n",
      "Epoch: 017/050 | Batch 450/003 | Cost: 12857.4844\n",
      "Time elapsed: 2.05 min\n",
      "Epoch: 018/050 | Batch 000/003 | Cost: 12531.7217\n",
      "Epoch: 018/050 | Batch 050/003 | Cost: 12500.7012\n",
      "Epoch: 018/050 | Batch 100/003 | Cost: 12458.2969\n",
      "Epoch: 018/050 | Batch 150/003 | Cost: 12838.6758\n",
      "Epoch: 018/050 | Batch 200/003 | Cost: 12678.9072\n",
      "Epoch: 018/050 | Batch 250/003 | Cost: 12199.8320\n",
      "Epoch: 018/050 | Batch 300/003 | Cost: 12352.8457\n",
      "Epoch: 018/050 | Batch 350/003 | Cost: 12980.6797\n",
      "Epoch: 018/050 | Batch 400/003 | Cost: 11996.0254\n",
      "Epoch: 018/050 | Batch 450/003 | Cost: 12993.7158\n",
      "Time elapsed: 2.17 min\n",
      "Epoch: 019/050 | Batch 000/003 | Cost: 12559.5215\n",
      "Epoch: 019/050 | Batch 050/003 | Cost: 12757.8662\n",
      "Epoch: 019/050 | Batch 100/003 | Cost: 13118.6836\n",
      "Epoch: 019/050 | Batch 150/003 | Cost: 13059.1777\n",
      "Epoch: 019/050 | Batch 200/003 | Cost: 13048.2031\n",
      "Epoch: 019/050 | Batch 250/003 | Cost: 12460.9688\n",
      "Epoch: 019/050 | Batch 300/003 | Cost: 12757.1748\n",
      "Epoch: 019/050 | Batch 350/003 | Cost: 12035.1006\n",
      "Epoch: 019/050 | Batch 400/003 | Cost: 12802.9883\n",
      "Epoch: 019/050 | Batch 450/003 | Cost: 12858.0488\n",
      "Time elapsed: 2.29 min\n",
      "Epoch: 020/050 | Batch 000/003 | Cost: 12934.9336\n",
      "Epoch: 020/050 | Batch 050/003 | Cost: 12974.0488\n",
      "Epoch: 020/050 | Batch 100/003 | Cost: 12512.7949\n",
      "Epoch: 020/050 | Batch 150/003 | Cost: 12980.7275\n",
      "Epoch: 020/050 | Batch 200/003 | Cost: 12930.8789\n",
      "Epoch: 020/050 | Batch 250/003 | Cost: 12721.5723\n",
      "Epoch: 020/050 | Batch 300/003 | Cost: 12933.5918\n",
      "Epoch: 020/050 | Batch 350/003 | Cost: 12456.5488\n",
      "Epoch: 020/050 | Batch 400/003 | Cost: 12849.0654\n",
      "Epoch: 020/050 | Batch 450/003 | Cost: 12522.7480\n",
      "Time elapsed: 2.41 min\n",
      "Epoch: 021/050 | Batch 000/003 | Cost: 12122.0742\n",
      "Epoch: 021/050 | Batch 050/003 | Cost: 13007.4697\n",
      "Epoch: 021/050 | Batch 100/003 | Cost: 12690.0635\n",
      "Epoch: 021/050 | Batch 150/003 | Cost: 12353.1621\n",
      "Epoch: 021/050 | Batch 200/003 | Cost: 13007.6445\n",
      "Epoch: 021/050 | Batch 250/003 | Cost: 12202.5176\n",
      "Epoch: 021/050 | Batch 300/003 | Cost: 12154.6660\n",
      "Epoch: 021/050 | Batch 350/003 | Cost: 12723.7158\n",
      "Epoch: 021/050 | Batch 400/003 | Cost: 12902.6582\n",
      "Epoch: 021/050 | Batch 450/003 | Cost: 12786.1484\n",
      "Time elapsed: 2.53 min\n",
      "Epoch: 022/050 | Batch 000/003 | Cost: 12648.4844\n",
      "Epoch: 022/050 | Batch 050/003 | Cost: 12816.2891\n",
      "Epoch: 022/050 | Batch 100/003 | Cost: 12544.2412\n",
      "Epoch: 022/050 | Batch 150/003 | Cost: 12651.0215\n",
      "Epoch: 022/050 | Batch 200/003 | Cost: 12831.6562\n",
      "Epoch: 022/050 | Batch 250/003 | Cost: 12590.9326\n",
      "Epoch: 022/050 | Batch 300/003 | Cost: 12396.2373\n",
      "Epoch: 022/050 | Batch 350/003 | Cost: 12948.6094\n",
      "Epoch: 022/050 | Batch 400/003 | Cost: 12553.6816\n",
      "Epoch: 022/050 | Batch 450/003 | Cost: 12309.2637\n",
      "Time elapsed: 2.65 min\n",
      "Epoch: 023/050 | Batch 000/003 | Cost: 12857.9453\n",
      "Epoch: 023/050 | Batch 050/003 | Cost: 12910.1377\n",
      "Epoch: 023/050 | Batch 100/003 | Cost: 12449.3242\n",
      "Epoch: 023/050 | Batch 150/003 | Cost: 12278.5312\n",
      "Epoch: 023/050 | Batch 200/003 | Cost: 12971.6885\n",
      "Epoch: 023/050 | Batch 250/003 | Cost: 13084.1699\n",
      "Epoch: 023/050 | Batch 300/003 | Cost: 12463.8232\n",
      "Epoch: 023/050 | Batch 350/003 | Cost: 12589.3398\n",
      "Epoch: 023/050 | Batch 400/003 | Cost: 12732.2168\n",
      "Epoch: 023/050 | Batch 450/003 | Cost: 12196.4492\n",
      "Time elapsed: 2.76 min\n",
      "Epoch: 024/050 | Batch 000/003 | Cost: 12342.8789\n",
      "Epoch: 024/050 | Batch 050/003 | Cost: 12255.4883\n",
      "Epoch: 024/050 | Batch 100/003 | Cost: 12158.4902\n",
      "Epoch: 024/050 | Batch 150/003 | Cost: 12731.5742\n",
      "Epoch: 024/050 | Batch 200/003 | Cost: 12789.7168\n",
      "Epoch: 024/050 | Batch 250/003 | Cost: 12213.1104\n",
      "Epoch: 024/050 | Batch 300/003 | Cost: 12613.8281\n",
      "Epoch: 024/050 | Batch 350/003 | Cost: 12530.3096\n",
      "Epoch: 024/050 | Batch 400/003 | Cost: 12475.6035\n",
      "Epoch: 024/050 | Batch 450/003 | Cost: 12182.7178\n",
      "Time elapsed: 2.88 min\n",
      "Epoch: 025/050 | Batch 000/003 | Cost: 12929.5430\n",
      "Epoch: 025/050 | Batch 050/003 | Cost: 12472.9180\n",
      "Epoch: 025/050 | Batch 100/003 | Cost: 11870.2754\n",
      "Epoch: 025/050 | Batch 150/003 | Cost: 12619.1641\n",
      "Epoch: 025/050 | Batch 200/003 | Cost: 12285.2344\n",
      "Epoch: 025/050 | Batch 250/003 | Cost: 12557.6367\n",
      "Epoch: 025/050 | Batch 300/003 | Cost: 12409.3574\n",
      "Epoch: 025/050 | Batch 350/003 | Cost: 12889.7910\n",
      "Epoch: 025/050 | Batch 400/003 | Cost: 12708.5605\n",
      "Epoch: 025/050 | Batch 450/003 | Cost: 12577.1514\n",
      "Time elapsed: 3.00 min\n",
      "Epoch: 026/050 | Batch 000/003 | Cost: 12301.7139\n",
      "Epoch: 026/050 | Batch 050/003 | Cost: 12692.7188\n",
      "Epoch: 026/050 | Batch 100/003 | Cost: 12601.7607\n",
      "Epoch: 026/050 | Batch 150/003 | Cost: 12460.5254\n",
      "Epoch: 026/050 | Batch 200/003 | Cost: 12769.4287\n",
      "Epoch: 026/050 | Batch 250/003 | Cost: 12428.0000\n",
      "Epoch: 026/050 | Batch 300/003 | Cost: 12987.5449\n",
      "Epoch: 026/050 | Batch 350/003 | Cost: 12646.5908\n",
      "Epoch: 026/050 | Batch 400/003 | Cost: 12335.6738\n",
      "Epoch: 026/050 | Batch 450/003 | Cost: 12613.5449\n",
      "Time elapsed: 3.12 min\n",
      "Epoch: 027/050 | Batch 000/003 | Cost: 12647.8809\n",
      "Epoch: 027/050 | Batch 050/003 | Cost: 12970.0127\n",
      "Epoch: 027/050 | Batch 100/003 | Cost: 12870.9219\n",
      "Epoch: 027/050 | Batch 150/003 | Cost: 12435.1553\n",
      "Epoch: 027/050 | Batch 200/003 | Cost: 12810.8418\n",
      "Epoch: 027/050 | Batch 250/003 | Cost: 12727.6777\n",
      "Epoch: 027/050 | Batch 300/003 | Cost: 12762.6055\n",
      "Epoch: 027/050 | Batch 350/003 | Cost: 12970.4414\n",
      "Epoch: 027/050 | Batch 400/003 | Cost: 12745.8652\n",
      "Epoch: 027/050 | Batch 450/003 | Cost: 12442.3232\n",
      "Time elapsed: 3.24 min\n",
      "Epoch: 028/050 | Batch 000/003 | Cost: 12199.5078\n",
      "Epoch: 028/050 | Batch 050/003 | Cost: 12707.5625\n",
      "Epoch: 028/050 | Batch 100/003 | Cost: 12289.9277\n",
      "Epoch: 028/050 | Batch 150/003 | Cost: 12375.3242\n",
      "Epoch: 028/050 | Batch 200/003 | Cost: 12023.3887\n",
      "Epoch: 028/050 | Batch 250/003 | Cost: 12776.7168\n",
      "Epoch: 028/050 | Batch 300/003 | Cost: 12680.4668\n",
      "Epoch: 028/050 | Batch 350/003 | Cost: 12701.3281\n",
      "Epoch: 028/050 | Batch 400/003 | Cost: 12561.7227\n",
      "Epoch: 028/050 | Batch 450/003 | Cost: 12763.8447\n",
      "Time elapsed: 3.36 min\n",
      "Epoch: 029/050 | Batch 000/003 | Cost: 12721.6777\n",
      "Epoch: 029/050 | Batch 050/003 | Cost: 12443.0645\n",
      "Epoch: 029/050 | Batch 100/003 | Cost: 12057.7822\n",
      "Epoch: 029/050 | Batch 150/003 | Cost: 12504.2529\n",
      "Epoch: 029/050 | Batch 200/003 | Cost: 12310.3965\n",
      "Epoch: 029/050 | Batch 250/003 | Cost: 13202.6211\n",
      "Epoch: 029/050 | Batch 300/003 | Cost: 12117.8008\n",
      "Epoch: 029/050 | Batch 350/003 | Cost: 12538.9092\n",
      "Epoch: 029/050 | Batch 400/003 | Cost: 12451.9180\n",
      "Epoch: 029/050 | Batch 450/003 | Cost: 12649.5537\n",
      "Time elapsed: 3.48 min\n",
      "Epoch: 030/050 | Batch 000/003 | Cost: 13177.7520\n",
      "Epoch: 030/050 | Batch 050/003 | Cost: 12634.2002\n",
      "Epoch: 030/050 | Batch 100/003 | Cost: 12582.4863\n",
      "Epoch: 030/050 | Batch 150/003 | Cost: 12516.8877\n",
      "Epoch: 030/050 | Batch 200/003 | Cost: 12460.7139\n",
      "Epoch: 030/050 | Batch 250/003 | Cost: 12385.2090\n",
      "Epoch: 030/050 | Batch 300/003 | Cost: 12847.1113\n",
      "Epoch: 030/050 | Batch 350/003 | Cost: 12123.1543\n",
      "Epoch: 030/050 | Batch 400/003 | Cost: 12427.7227\n",
      "Epoch: 030/050 | Batch 450/003 | Cost: 12904.1279\n",
      "Time elapsed: 3.60 min\n",
      "Epoch: 031/050 | Batch 000/003 | Cost: 12551.2178\n",
      "Epoch: 031/050 | Batch 050/003 | Cost: 13006.6875\n",
      "Epoch: 031/050 | Batch 100/003 | Cost: 12672.4551\n",
      "Epoch: 031/050 | Batch 150/003 | Cost: 12577.4131\n",
      "Epoch: 031/050 | Batch 200/003 | Cost: 12595.9150\n",
      "Epoch: 031/050 | Batch 250/003 | Cost: 12294.5635\n",
      "Epoch: 031/050 | Batch 300/003 | Cost: 12491.6406\n",
      "Epoch: 031/050 | Batch 350/003 | Cost: 12726.5947\n",
      "Epoch: 031/050 | Batch 400/003 | Cost: 12449.7246\n",
      "Epoch: 031/050 | Batch 450/003 | Cost: 12771.0234\n",
      "Time elapsed: 3.72 min\n",
      "Epoch: 032/050 | Batch 000/003 | Cost: 12567.2988\n",
      "Epoch: 032/050 | Batch 050/003 | Cost: 11960.7676\n",
      "Epoch: 032/050 | Batch 100/003 | Cost: 12276.4648\n",
      "Epoch: 032/050 | Batch 150/003 | Cost: 13205.2402\n",
      "Epoch: 032/050 | Batch 200/003 | Cost: 12931.1514\n",
      "Epoch: 032/050 | Batch 250/003 | Cost: 12975.4473\n",
      "Epoch: 032/050 | Batch 300/003 | Cost: 12364.8164\n",
      "Epoch: 032/050 | Batch 350/003 | Cost: 13167.5020\n",
      "Epoch: 032/050 | Batch 400/003 | Cost: 12439.9355\n",
      "Epoch: 032/050 | Batch 450/003 | Cost: 12526.5000\n",
      "Time elapsed: 3.84 min\n",
      "Epoch: 033/050 | Batch 000/003 | Cost: 12447.2412\n",
      "Epoch: 033/050 | Batch 050/003 | Cost: 12603.1895\n",
      "Epoch: 033/050 | Batch 100/003 | Cost: 11774.2539\n",
      "Epoch: 033/050 | Batch 150/003 | Cost: 12859.1406\n",
      "Epoch: 033/050 | Batch 200/003 | Cost: 12321.5195\n",
      "Epoch: 033/050 | Batch 250/003 | Cost: 12458.5352\n",
      "Epoch: 033/050 | Batch 300/003 | Cost: 12871.9336\n",
      "Epoch: 033/050 | Batch 350/003 | Cost: 12373.0039\n",
      "Epoch: 033/050 | Batch 400/003 | Cost: 12674.4531\n",
      "Epoch: 033/050 | Batch 450/003 | Cost: 12425.8633\n",
      "Time elapsed: 3.96 min\n",
      "Epoch: 034/050 | Batch 000/003 | Cost: 12650.1582\n",
      "Epoch: 034/050 | Batch 050/003 | Cost: 12587.3613\n",
      "Epoch: 034/050 | Batch 100/003 | Cost: 12675.3105\n",
      "Epoch: 034/050 | Batch 150/003 | Cost: 12833.5391\n",
      "Epoch: 034/050 | Batch 200/003 | Cost: 12441.7305\n",
      "Epoch: 034/050 | Batch 250/003 | Cost: 12733.2959\n",
      "Epoch: 034/050 | Batch 300/003 | Cost: 12329.9219\n",
      "Epoch: 034/050 | Batch 350/003 | Cost: 12802.7354\n",
      "Epoch: 034/050 | Batch 400/003 | Cost: 11619.9902\n",
      "Epoch: 034/050 | Batch 450/003 | Cost: 12474.8330\n",
      "Time elapsed: 4.08 min\n",
      "Epoch: 035/050 | Batch 000/003 | Cost: 12535.9199\n",
      "Epoch: 035/050 | Batch 050/003 | Cost: 12450.3691\n",
      "Epoch: 035/050 | Batch 100/003 | Cost: 12693.5137\n",
      "Epoch: 035/050 | Batch 150/003 | Cost: 12554.5850\n",
      "Epoch: 035/050 | Batch 200/003 | Cost: 12123.2129\n",
      "Epoch: 035/050 | Batch 250/003 | Cost: 12241.1787\n",
      "Epoch: 035/050 | Batch 300/003 | Cost: 12227.1240\n",
      "Epoch: 035/050 | Batch 350/003 | Cost: 12536.8457\n",
      "Epoch: 035/050 | Batch 400/003 | Cost: 12318.9238\n",
      "Epoch: 035/050 | Batch 450/003 | Cost: 12698.3252\n",
      "Time elapsed: 4.20 min\n",
      "Epoch: 036/050 | Batch 000/003 | Cost: 12412.0586\n",
      "Epoch: 036/050 | Batch 050/003 | Cost: 12438.2656\n",
      "Epoch: 036/050 | Batch 100/003 | Cost: 12465.1973\n",
      "Epoch: 036/050 | Batch 150/003 | Cost: 12164.7285\n",
      "Epoch: 036/050 | Batch 200/003 | Cost: 12492.0488\n",
      "Epoch: 036/050 | Batch 250/003 | Cost: 12558.4023\n",
      "Epoch: 036/050 | Batch 300/003 | Cost: 12648.7227\n",
      "Epoch: 036/050 | Batch 350/003 | Cost: 12408.2832\n",
      "Epoch: 036/050 | Batch 400/003 | Cost: 12169.1201\n",
      "Epoch: 036/050 | Batch 450/003 | Cost: 12748.4707\n",
      "Time elapsed: 4.32 min\n",
      "Epoch: 037/050 | Batch 000/003 | Cost: 12361.0439\n",
      "Epoch: 037/050 | Batch 050/003 | Cost: 12553.2051\n",
      "Epoch: 037/050 | Batch 100/003 | Cost: 12548.9307\n",
      "Epoch: 037/050 | Batch 150/003 | Cost: 12064.2344\n",
      "Epoch: 037/050 | Batch 200/003 | Cost: 12219.1270\n",
      "Epoch: 037/050 | Batch 250/003 | Cost: 12353.5186\n",
      "Epoch: 037/050 | Batch 300/003 | Cost: 12224.3682\n",
      "Epoch: 037/050 | Batch 350/003 | Cost: 12668.8193\n",
      "Epoch: 037/050 | Batch 400/003 | Cost: 12274.8691\n",
      "Epoch: 037/050 | Batch 450/003 | Cost: 12393.6182\n",
      "Time elapsed: 4.44 min\n",
      "Epoch: 038/050 | Batch 000/003 | Cost: 12669.8281\n",
      "Epoch: 038/050 | Batch 050/003 | Cost: 12271.3066\n",
      "Epoch: 038/050 | Batch 100/003 | Cost: 12387.7930\n",
      "Epoch: 038/050 | Batch 150/003 | Cost: 11961.1123\n",
      "Epoch: 038/050 | Batch 200/003 | Cost: 11976.5498\n",
      "Epoch: 038/050 | Batch 250/003 | Cost: 12573.2324\n",
      "Epoch: 038/050 | Batch 300/003 | Cost: 12608.4854\n",
      "Epoch: 038/050 | Batch 350/003 | Cost: 12112.7617\n",
      "Epoch: 038/050 | Batch 400/003 | Cost: 12275.8418\n",
      "Epoch: 038/050 | Batch 450/003 | Cost: 12417.7549\n",
      "Time elapsed: 4.56 min\n",
      "Epoch: 039/050 | Batch 000/003 | Cost: 12874.1016\n",
      "Epoch: 039/050 | Batch 050/003 | Cost: 12372.2070\n",
      "Epoch: 039/050 | Batch 100/003 | Cost: 12446.2695\n",
      "Epoch: 039/050 | Batch 150/003 | Cost: 13140.2764\n",
      "Epoch: 039/050 | Batch 200/003 | Cost: 12825.3037\n",
      "Epoch: 039/050 | Batch 250/003 | Cost: 12165.7451\n",
      "Epoch: 039/050 | Batch 300/003 | Cost: 12430.3340\n",
      "Epoch: 039/050 | Batch 350/003 | Cost: 12702.8613\n",
      "Epoch: 039/050 | Batch 400/003 | Cost: 12374.5752\n",
      "Epoch: 039/050 | Batch 450/003 | Cost: 12414.6475\n",
      "Time elapsed: 4.68 min\n",
      "Epoch: 040/050 | Batch 000/003 | Cost: 12147.0693\n",
      "Epoch: 040/050 | Batch 050/003 | Cost: 12907.0684\n",
      "Epoch: 040/050 | Batch 100/003 | Cost: 11664.0801\n",
      "Epoch: 040/050 | Batch 150/003 | Cost: 12443.9512\n",
      "Epoch: 040/050 | Batch 200/003 | Cost: 12112.6250\n",
      "Epoch: 040/050 | Batch 250/003 | Cost: 12146.6133\n",
      "Epoch: 040/050 | Batch 300/003 | Cost: 12050.8281\n",
      "Epoch: 040/050 | Batch 350/003 | Cost: 12762.5020\n",
      "Epoch: 040/050 | Batch 400/003 | Cost: 12517.0771\n",
      "Epoch: 040/050 | Batch 450/003 | Cost: 12191.8916\n",
      "Time elapsed: 4.80 min\n",
      "Epoch: 041/050 | Batch 000/003 | Cost: 12098.7090\n",
      "Epoch: 041/050 | Batch 050/003 | Cost: 12562.2539\n",
      "Epoch: 041/050 | Batch 100/003 | Cost: 12609.0088\n",
      "Epoch: 041/050 | Batch 150/003 | Cost: 12270.9854\n",
      "Epoch: 041/050 | Batch 200/003 | Cost: 12757.7578\n",
      "Epoch: 041/050 | Batch 250/003 | Cost: 12277.8584\n",
      "Epoch: 041/050 | Batch 300/003 | Cost: 12219.4121\n",
      "Epoch: 041/050 | Batch 350/003 | Cost: 12215.5977\n",
      "Epoch: 041/050 | Batch 400/003 | Cost: 12476.9668\n",
      "Epoch: 041/050 | Batch 450/003 | Cost: 12220.5449\n",
      "Time elapsed: 4.92 min\n",
      "Epoch: 042/050 | Batch 000/003 | Cost: 12391.3916\n",
      "Epoch: 042/050 | Batch 050/003 | Cost: 12526.2002\n",
      "Epoch: 042/050 | Batch 100/003 | Cost: 12929.2305\n",
      "Epoch: 042/050 | Batch 150/003 | Cost: 12575.8652\n",
      "Epoch: 042/050 | Batch 200/003 | Cost: 12588.2656\n",
      "Epoch: 042/050 | Batch 250/003 | Cost: 12191.2520\n",
      "Epoch: 042/050 | Batch 300/003 | Cost: 12416.6172\n",
      "Epoch: 042/050 | Batch 350/003 | Cost: 12398.3096\n",
      "Epoch: 042/050 | Batch 400/003 | Cost: 12093.6777\n",
      "Epoch: 042/050 | Batch 450/003 | Cost: 12391.6504\n",
      "Time elapsed: 5.04 min\n",
      "Epoch: 043/050 | Batch 000/003 | Cost: 12748.3145\n",
      "Epoch: 043/050 | Batch 050/003 | Cost: 12076.2344\n",
      "Epoch: 043/050 | Batch 100/003 | Cost: 11953.4248\n",
      "Epoch: 043/050 | Batch 150/003 | Cost: 12420.9707\n",
      "Epoch: 043/050 | Batch 200/003 | Cost: 12428.2041\n",
      "Epoch: 043/050 | Batch 250/003 | Cost: 12447.2324\n",
      "Epoch: 043/050 | Batch 300/003 | Cost: 12404.4004\n",
      "Epoch: 043/050 | Batch 350/003 | Cost: 13077.8926\n",
      "Epoch: 043/050 | Batch 400/003 | Cost: 13071.2891\n",
      "Epoch: 043/050 | Batch 450/003 | Cost: 12398.8311\n",
      "Time elapsed: 5.16 min\n",
      "Epoch: 044/050 | Batch 000/003 | Cost: 12913.1631\n",
      "Epoch: 044/050 | Batch 050/003 | Cost: 12169.1523\n",
      "Epoch: 044/050 | Batch 100/003 | Cost: 11856.3672\n",
      "Epoch: 044/050 | Batch 150/003 | Cost: 12280.6045\n",
      "Epoch: 044/050 | Batch 200/003 | Cost: 12343.7998\n",
      "Epoch: 044/050 | Batch 250/003 | Cost: 12746.3164\n",
      "Epoch: 044/050 | Batch 300/003 | Cost: 12279.5156\n",
      "Epoch: 044/050 | Batch 350/003 | Cost: 12548.7598\n",
      "Epoch: 044/050 | Batch 400/003 | Cost: 12430.6104\n",
      "Epoch: 044/050 | Batch 450/003 | Cost: 12775.3105\n",
      "Time elapsed: 5.28 min\n",
      "Epoch: 045/050 | Batch 000/003 | Cost: 12245.9482\n",
      "Epoch: 045/050 | Batch 050/003 | Cost: 12547.1270\n",
      "Epoch: 045/050 | Batch 100/003 | Cost: 12214.5732\n",
      "Epoch: 045/050 | Batch 150/003 | Cost: 12484.7715\n",
      "Epoch: 045/050 | Batch 200/003 | Cost: 12552.6123\n",
      "Epoch: 045/050 | Batch 250/003 | Cost: 12510.6064\n",
      "Epoch: 045/050 | Batch 300/003 | Cost: 12465.5566\n",
      "Epoch: 045/050 | Batch 350/003 | Cost: 12111.4629\n",
      "Epoch: 045/050 | Batch 400/003 | Cost: 12435.2578\n",
      "Epoch: 045/050 | Batch 450/003 | Cost: 12433.7461\n",
      "Time elapsed: 5.40 min\n",
      "Epoch: 046/050 | Batch 000/003 | Cost: 12598.7734\n",
      "Epoch: 046/050 | Batch 050/003 | Cost: 12568.2207\n",
      "Epoch: 046/050 | Batch 100/003 | Cost: 12853.6328\n",
      "Epoch: 046/050 | Batch 150/003 | Cost: 12230.1533\n",
      "Epoch: 046/050 | Batch 200/003 | Cost: 12326.4727\n",
      "Epoch: 046/050 | Batch 250/003 | Cost: 12770.4814\n",
      "Epoch: 046/050 | Batch 300/003 | Cost: 12082.1006\n",
      "Epoch: 046/050 | Batch 350/003 | Cost: 11948.0430\n",
      "Epoch: 046/050 | Batch 400/003 | Cost: 12462.7773\n",
      "Epoch: 046/050 | Batch 450/003 | Cost: 12145.4609\n",
      "Time elapsed: 5.52 min\n",
      "Epoch: 047/050 | Batch 000/003 | Cost: 12146.9893\n",
      "Epoch: 047/050 | Batch 050/003 | Cost: 11917.3779\n",
      "Epoch: 047/050 | Batch 100/003 | Cost: 12135.3457\n",
      "Epoch: 047/050 | Batch 150/003 | Cost: 11984.8691\n",
      "Epoch: 047/050 | Batch 200/003 | Cost: 12437.4248\n",
      "Epoch: 047/050 | Batch 250/003 | Cost: 12444.1416\n",
      "Epoch: 047/050 | Batch 300/003 | Cost: 12078.9043\n",
      "Epoch: 047/050 | Batch 350/003 | Cost: 12138.3818\n",
      "Epoch: 047/050 | Batch 400/003 | Cost: 12556.3086\n",
      "Epoch: 047/050 | Batch 450/003 | Cost: 12726.3828\n",
      "Time elapsed: 5.64 min\n",
      "Epoch: 048/050 | Batch 000/003 | Cost: 12927.1035\n",
      "Epoch: 048/050 | Batch 050/003 | Cost: 12747.8994\n",
      "Epoch: 048/050 | Batch 100/003 | Cost: 12002.6406\n",
      "Epoch: 048/050 | Batch 150/003 | Cost: 12093.2988\n",
      "Epoch: 048/050 | Batch 200/003 | Cost: 11541.1982\n",
      "Epoch: 048/050 | Batch 250/003 | Cost: 12530.8398\n",
      "Epoch: 048/050 | Batch 300/003 | Cost: 12200.4463\n",
      "Epoch: 048/050 | Batch 350/003 | Cost: 12818.4082\n",
      "Epoch: 048/050 | Batch 400/003 | Cost: 12760.9844\n",
      "Epoch: 048/050 | Batch 450/003 | Cost: 12186.3496\n",
      "Time elapsed: 5.76 min\n",
      "Epoch: 049/050 | Batch 000/003 | Cost: 12394.8848\n",
      "Epoch: 049/050 | Batch 050/003 | Cost: 12406.0801\n",
      "Epoch: 049/050 | Batch 100/003 | Cost: 12390.3223\n",
      "Epoch: 049/050 | Batch 150/003 | Cost: 12788.7949\n",
      "Epoch: 049/050 | Batch 200/003 | Cost: 12015.3936\n",
      "Epoch: 049/050 | Batch 250/003 | Cost: 12259.9609\n",
      "Epoch: 049/050 | Batch 300/003 | Cost: 12216.9688\n",
      "Epoch: 049/050 | Batch 350/003 | Cost: 12795.6113\n",
      "Epoch: 049/050 | Batch 400/003 | Cost: 11885.8955\n",
      "Epoch: 049/050 | Batch 450/003 | Cost: 12445.2891\n",
      "Time elapsed: 5.88 min\n",
      "Epoch: 050/050 | Batch 000/003 | Cost: 12782.9785\n",
      "Epoch: 050/050 | Batch 050/003 | Cost: 12291.9814\n",
      "Epoch: 050/050 | Batch 100/003 | Cost: 12721.1641\n",
      "Epoch: 050/050 | Batch 150/003 | Cost: 12482.5762\n",
      "Epoch: 050/050 | Batch 200/003 | Cost: 12581.8125\n",
      "Epoch: 050/050 | Batch 250/003 | Cost: 12422.5527\n",
      "Epoch: 050/050 | Batch 300/003 | Cost: 12384.3047\n",
      "Epoch: 050/050 | Batch 350/003 | Cost: 12031.4541\n",
      "Epoch: 050/050 | Batch 400/003 | Cost: 12278.7617\n",
      "Epoch: 050/050 | Batch 450/003 | Cost: 12190.8232\n",
      "Time elapsed: 6.00 min\n",
      "Total Training Time: 6.00 min\n"
     ]
    }
   ],
   "source": [
    "start_time = time.time()\n",
    "for epoch in range(num_epochs):\n",
    "    for batch_idx, (features, targets) in enumerate(train_loader):\n",
    "        \n",
    "        features = features.view(-1, 28*28).to(device)\n",
    "        targets = targets.to(device)\n",
    "\n",
    "        ### FORWARD AND BACK PROP\n",
    "        z_mean, z_log_var, encoded, decoded = model(features, targets)\n",
    "\n",
    "        # cost = reconstruction loss + Kullback-Leibler divergence\n",
    "        kl_divergence = (0.5 * (z_mean**2 + \n",
    "                                torch.exp(z_log_var) - z_log_var - 1)).sum()\n",
    "        \n",
    "        # add condition\n",
    "        x_con = torch.cat((features, to_onehot(targets, num_classes, device)), dim=1)\n",
    "        \n",
    "        pixelwise_bce = F.binary_cross_entropy(decoded, x_con, reduction='sum')\n",
    "        cost = kl_divergence + pixelwise_bce\n",
    "        \n",
    "        optimizer.zero_grad()\n",
    "        cost.backward()\n",
    "        \n",
    "        ### UPDATE MODEL PARAMETERS\n",
    "        optimizer.step()\n",
    "        \n",
    "        ### LOGGING\n",
    "        if not batch_idx % 50:\n",
    "            print ('Epoch: %03d/%03d | Batch %03d/%03d | Cost: %.4f' \n",
    "                   %(epoch+1, num_epochs, batch_idx, \n",
    "                     len(train_loader)//batch_size, cost))\n",
    "        \n",
    "    print('Time elapsed: %.2f min' % ((time.time() - start_time)/60))\n",
    "    \n",
    "print('Total Training Time: %.2f min' % ((time.time() - start_time)/60))"
   ]
  },
  {
   "cell_type": "markdown",
   "metadata": {},
   "source": [
    "# Evaluation"
   ]
  },
  {
   "cell_type": "markdown",
   "metadata": {},
   "source": [
    "### Reconstruction"
   ]
  },
  {
   "cell_type": "code",
   "execution_count": 6,
   "metadata": {},
   "outputs": [
    {
     "data": {
      "image/png": "[encoded data removed]",
      "text/plain": [
       "<Figure size 1440x180 with 30 Axes>"
      ]
     },
     "metadata": {
      "needs_background": "light"
     },
     "output_type": "display_data"
    }
   ],
   "source": [
    "%matplotlib inline\n",
    "import matplotlib.pyplot as plt\n",
    "\n",
    "##########################\n",
    "### VISUALIZATION\n",
    "##########################\n",
    "\n",
    "n_images = 15\n",
    "image_width = 28\n",
    "\n",
    "fig, axes = plt.subplots(nrows=2, ncols=n_images, \n",
    "                         sharex=True, sharey=True, figsize=(20, 2.5))\n",
    "orig_images = features[:n_images]\n",
    "decoded_images = decoded[:n_images][:, :-num_classes]\n",
    "\n",
    "for i in range(n_images):\n",
    "    for ax, img in zip(axes, [orig_images, decoded_images]):\n",
    "        curr_img = img[i].detach().to(torch.device('cpu'))\n",
    "        ax[i].imshow(curr_img.view((image_width, image_width)), cmap='binary')"
   ]
  },
  {
   "cell_type": "markdown",
   "metadata": {},
   "source": [
    "### New random-conditional images"
   ]
  },
  {
   "cell_type": "code",
   "execution_count": 7,
   "metadata": {},
   "outputs": [
    {
     "name": "stdout",
     "output_type": "stream",
     "text": [
      "Class Label 0\n"
     ]
    },
    {
     "data": {
      "image/png": "[encoded data removed]",
      "text/plain": [
       "<Figure size 720x180 with 10 Axes>"
      ]
     },
     "metadata": {
      "needs_background": "light"
     },
     "output_type": "display_data"
    },
    {
     "name": "stdout",
     "output_type": "stream",
     "text": [
      "Class Label 1\n"
     ]
    },
    {
     "data": {
      "image/png": "[encoded data removed]",
      "text/plain": [
       "<Figure size 720x180 with 10 Axes>"
      ]
     },
     "metadata": {
      "needs_background": "light"
     },
     "output_type": "display_data"
    },
    {
     "name": "stdout",
     "output_type": "stream",
     "text": [
      "Class Label 2\n"
     ]
    },
    {
     "data": {
      "image/png": "[encoded data removed]",
      "text/plain": [
       "<Figure size 720x180 with 10 Axes>"
      ]
     },
     "metadata": {
      "needs_background": "light"
     },
     "output_type": "display_data"
    },
    {
     "name": "stdout",
     "output_type": "stream",
     "text": [
      "Class Label 3\n"
     ]
    },
    {
     "data": {
      "image/png": "[encoded data removed]",
      "text/plain": [
       "<Figure size 720x180 with 10 Axes>"
      ]
     },
     "metadata": {
      "needs_background": "light"
     },
     "output_type": "display_data"
    },
    {
     "name": "stdout",
     "output_type": "stream",
     "text": [
      "Class Label 4\n"
     ]
    },
    {
     "data": {
      "image/png": "[encoded data removed]",
      "text/plain": [
       "<Figure size 720x180 with 10 Axes>"
      ]
     },
     "metadata": {
      "needs_background": "light"
     },
     "output_type": "display_data"
    },
    {
     "name": "stdout",
     "output_type": "stream",
     "text": [
      "Class Label 5\n"
     ]
    },
    {
     "data": {
      "image/png": "[encoded data removed]",
      "text/plain": [
       "<Figure size 720x180 with 10 Axes>"
      ]
     },
     "metadata": {
      "needs_background": "light"
     },
     "output_type": "display_data"
    },
    {
     "name": "stdout",
     "output_type": "stream",
     "text": [
      "Class Label 6\n"
     ]
    },
    {
     "data": {
      "image/png": "[encoded data removed]",
      "text/plain": [
       "<Figure size 720x180 with 10 Axes>"
      ]
     },
     "metadata": {
      "needs_background": "light"
     },
     "output_type": "display_data"
    },
    {
     "name": "stdout",
     "output_type": "stream",
     "text": [
      "Class Label 7\n"
     ]
    },
    {
     "data": {
      "image/png": "[encoded data removed]",
      "text/plain": [
       "<Figure size 720x180 with 10 Axes>"
      ]
     },
     "metadata": {
      "needs_background": "light"
     },
     "output_type": "display_data"
    },
    {
     "name": "stdout",
     "output_type": "stream",
     "text": [
      "Class Label 8\n"
     ]
    },
    {
     "data": {
      "image/png": "[encoded data removed]",
      "text/plain": [
       "<Figure size 720x180 with 10 Axes>"
      ]
     },
     "metadata": {
      "needs_background": "light"
     },
     "output_type": "display_data"
    },
    {
     "name": "stdout",
     "output_type": "stream",
     "text": [
      "Class Label 9\n"
     ]
    },
    {
     "data": {
      "image/png": "[encoded data removed]",
      "text/plain": [
       "<Figure size 720x180 with 10 Axes>"
      ]
     },
     "metadata": {
      "needs_background": "light"
     },
     "output_type": "display_data"
    }
   ],
   "source": [
    "for i in range(10):\n",
    "\n",
    "    ##########################\n",
    "    ### RANDOM SAMPLE\n",
    "    ##########################    \n",
    "    \n",
    "    labels = torch.tensor([i]*10).to(device)\n",
    "    n_images = labels.size()[0]\n",
    "    rand_features = torch.randn(n_images, num_latent).to(device)\n",
    "    new_images = model.decoder(rand_features, labels)\n",
    "\n",
    "    ##########################\n",
    "    ### VISUALIZATION\n",
    "    ##########################\n",
    "\n",
    "    image_width = 28\n",
    "\n",
    "    fig, axes = plt.subplots(nrows=1, ncols=n_images, figsize=(10, 2.5), sharey=True)\n",
    "    decoded_images = new_images[:n_images][:, :-num_classes]\n",
    "\n",
    "    print('Class Label %d' % i)\n",
    "\n",
    "    for ax, img in zip(axes, decoded_images):\n",
    "        curr_img = img.detach().to(torch.device('cpu'))\n",
    "        ax.imshow(curr_img.view((image_width, image_width)), cmap='binary')\n",
    "        \n",
    "    plt.show()"
   ]
  },
  {
   "cell_type": "code",
   "execution_count": 8,
   "metadata": {},
   "outputs": [
    {
     "name": "stdout",
     "output_type": "stream",
     "text": [
      "numpy       1.15.4\n",
      "torch       1.0.0\n",
      "\n"
     ]
    }
   ],
   "source": [
    "%watermark -iv"
   ]
  }
 ],
 "metadata": {
  "kernelspec": {
   "display_name": "Python 3",
   "language": "python",
   "name": "python3"
  },
  "language_info": {
   "codemirror_mode": {
    "name": "ipython",
    "version": 3
   },
   "file_extension": ".py",
   "mimetype": "text/x-python",
   "name": "python",
   "nbconvert_exporter": "python",
   "pygments_lexer": "ipython3",
   "version": "3.7.1"
  },
  "toc": {
   "nav_menu": {},
   "number_sections": true,
   "sideBar": true,
   "skip_h1_title": false,
   "title_cell": "Table of Contents",
   "title_sidebar": "Contents",
   "toc_cell": false,
   "toc_position": {},
   "toc_section_display": true,
   "toc_window_display": false
  }
 },
 "nbformat": 4,
 "nbformat_minor": 2
}
